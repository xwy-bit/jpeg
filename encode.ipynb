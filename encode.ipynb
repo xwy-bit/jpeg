{
 "cells": [
  {
   "cell_type": "code",
   "execution_count": null,
   "metadata": {},
   "outputs": [],
   "source": [
    "import struct\n",
    "import numpy as np\n",
    "import matplotlib.pyplot as plt\n",
    "import io\n",
    "from PIL import Image as im\n",
    "import dct\n",
    "%matplotlib inline \n",
    "\n",
    "\n",
    "file_dir = './lady.dat'\n",
    "with open(file_dir , 'rb') as f:\n",
    "    fbuff = io.BufferedReader(f)\n",
    "    N = len(fbuff.read())\n",
    "\n",
    "with open(file_dir , 'rb') as f:\n",
    "    data = struct.unpack('b'* N, f.read(1*N)) "
   ]
  },
  {
   "cell_type": "code",
   "execution_count": null,
   "metadata": {},
   "outputs": [],
   "source": [
    "# 获得数据\n",
    "data = np.asarray(data,dtype= np.uint8)\n",
    "data = data.reshape(256,256)\n",
    "plt.imshow(data,cmap=\"gray\")  "
   ]
  },
  {
   "cell_type": "code",
   "execution_count": null,
   "metadata": {},
   "outputs": [],
   "source": [
    "rows_blocks = 256//8\n",
    "cols_blocks = 256//8\n",
    "blocks_num = rows_blocks * cols_blocks\n",
    "blocks = np.empty([rows_blocks * cols_blocks, 8 , 8],dtype=np.int32)\n",
    "\n",
    "\n",
    "for row_blocks in range(rows_blocks):\n",
    "    for col_blocks in range(cols_blocks):\n",
    "        blocks[row_blocks * rows_blocks + col_blocks,:,:] = data[8 * row_blocks : 8 * row_blocks + 8, 8 * col_blocks : 8 * col_blocks +8]\n",
    "\n",
    "plt.imshow(blocks[120],cmap='gray')"
   ]
  },
  {
   "cell_type": "code",
   "execution_count": null,
   "metadata": {},
   "outputs": [],
   "source": [
    "quant_table = np.asarray([[16,11,10,16,24,40,51,61],\n",
    "                        [12,12,14,19,26,58,60,55],\n",
    "                        [14,13,16,24,40,57,69,56],\n",
    "                        [14,17,22,29,51,87,80,62],\n",
    "                        [18,22,37,56,68,109,103,77],\n",
    "                        [24,35,55,64,81,104,113,92],\n",
    "                        [49,64,78,87,103,121,120,101],\n",
    "                        [72,92,95,98,112,100,103,99]])\n",
    "ac_encode_table = np.asarray([[\"1010\",\"00\", \"01\", \"100\", \"1011\", \"11010\", \"1111000\", \"11111000\", \"1111110110\", \"1111111110000010\", \"1111111110000011\"],\n",
    "            [\"\",\"1100\", \"11011\", \"1111001\", \"111110110\", \"11111110110\", \"1111111110000100\", \"1111111110000101\", \"1111111110000110\", \"1111111110000111\", \"1111111110001000\"],\n",
    "            [\"\",\"11100\", \"11111001\", \"1111110111\", \"111111110100\", \"1111111110001001\", \"1111111110001010\", \"1111111110001011\", \"1111111110001100\", \"1111111110001101\",\"1111111110001110\"],\n",
    "            [\"\",\"111010\", \"111110111\", \"111111110101\", \"1111111110001111\", \"1111111110010000\", \"1111111110010001\", \"1111111110010010\", \"1111111110010011\", \"1111111110010100\", \"1111111110010101\"],\n",
    "            [\"\",\"111011\", \"1111111000\", \"1111111110010110\", \"1111111110010111\", \"1111111110011000\", \"1111111110011001\", \"1111111110011010\", \"1111111110011011\", \"1111111110011100\", \"1111111110011101\"],\n",
    "            [\"\",\"1111010\", \"11111110111\", \"1111111110011110\", \"1111111110011111\",\"1111111110100000\", \"1111111110100001\", \"1111111110100010\", \"1111111110100011\", \"1111111110100100\", \"1111111110100001\"],\n",
    "            [\"\",\"1111011\", \"111111110110\", \"1111111110100110\", \"1111111110100111\", \"1111111110101000\", \"1111111110101001\", \"1111111110101010\", \"1111111110101011\", \"1111111110101100\", \"1111111110101101\"],\n",
    "            [\"\",\"11111010\", \"111111110111\", \"1111111110101110\", \"1111111110101111\", \"1111111110110000\", \"1111111110110001\", \"1111111110110010\", \"1111111110110011\", \"1111111110110100\", \"1111111110110101\"],\n",
    "            [\"\",\"111111000\", \"111111111000000\", \"1111111110110110\", \"1111111110110111\", \"1111111110111000\", \"1111111110111001\", \"1111111110111010\", \"1111111110111011\", \"1111111110111100\", \"1111111110111101\"],\n",
    "            [\"\",\"111111001\", \"1111111110111110\", \"1111111110111111\", \"1111111111000000\", \"1111111111000001\", \"1111111111000010\", \"1111111111000011\", \"1111111111000100\", \"1111111111000101\", \"1111111111000110\"],\n",
    "            [\"\",\"111111010\", \"1111111111000111\", \"1111111111001000\", \"1111111111001001\", \"1111111111001010\", \"1111111111001011\", \"1111111111001100\", \"1111111111001101\", \"1111111111001110\", \"1111111111001111\"],\n",
    "            [\"\",\"1111111001\", \"1111111111010000\", \"1111111111010001\", \"1111111111010010\", \"1111111111010011\", \"1111111111010100\", \"1111111111010101\", \"1111111111010110\", \"1111111111010111\", \"1111111111011000\"],\n",
    "            [\"\",\"1111111010\", \"1111111111011001\", \"1111111111011010\", \"1111111111011011\", \"1111111111011100\", \"1111111111011101\", \"1111111111011110\", \"1111111111011111\", \"1111111111100000\", \"1111111111100001\"],\n",
    "            [\"\",\"11111111000\", \"1111111111100010\", \"1111111111100011\", \"1111111111100100\", \"1111111111100101\", \"1111111111100110\", \"1111111111100111\", \"1111111111101000\", \"1111111111101001\", \"1111111111101010\"],\n",
    "            [\"\",\"1111111111101011\", \"1111111111101100\", \"1111111111101101\", \"1111111111101110\", \"1111111111101111\", \"1111111111110000\", \"1111111111110001\", \"1111111111110010\", \"1111111111110011\", \"1111111111110100\"],\n",
    "            [\"11111111001\", \"1111111111110101\", \"1111111111110110\", \"1111111111110111\", \"1111111111111000\", \"1111111111111001\", \"1111111111111010\", \"1111111111111011\", \"1111111111111100\", \"1111111111111101\", \"1111111111111110\"]],dtype=str)\n",
    "dc_encode_table = [\"00\",\"010\", \"011\",\"100\",\"101\",\"110\",\"1110\",\"11110\",\"111110\",\"1111110\",\"11111110\",\"111111110\"]\n",
    "zigzag_col = [0,0,1,2,1,0,0,1,2,3,4,3,2,1,0,0,1,2,3,4,5,6,5,4,3,2,1,0,0,1,2,3,4,5,6,7,7,6,5,4,3,2,1,2,3,4,5,6,7,7,6,5,4,3,4,5,6,7,7,6,5,6,7,7]\n",
    "zigzag_row = [0,1,0,0,1,2,3,2,1,0,0,1,2,3,4,5,4,3,2,1,0,0,1,2,3,4,5,6,7,6,5,4,3,2,1,0,1,2,3,4,5,6,7,7,6,5,4,3,2,3,4,5,6,7,7,6,5,4,5,6,7,7,6,7]"
   ]
  },
  {
   "cell_type": "code",
   "execution_count": null,
   "metadata": {},
   "outputs": [],
   "source": [
    "\n",
    "blocks = np.asarray(blocks - 128.0,dtype=np.float64)\n",
    "blocks_dct = np.empty([blocks_num,8,8],dtype=np.float64)\n",
    "for index in range(blocks_num):\n",
    "    blocks_dct[index,:,:]  = dct.dct8x8(blocks[index]) \n",
    "blocks_quant = np.asarray(np.round(blocks_dct / quant_table),dtype=np.int32)\n",
    "dc_values = blocks_quant[:,0,0].reshape(-1) \n",
    "ac_values = blocks_quant\n"
   ]
  },
  {
   "cell_type": "code",
   "execution_count": null,
   "metadata": {},
   "outputs": [],
   "source": [
    "def dc_encode(value,pre_value):\n",
    "    global dc_encode_table\n",
    "    dc_before_code = value - pre_value\n",
    "    encode_len = 0 if dc_before_code == 0 else int(np.log2(abs(dc_before_code))) + 1 \n",
    "    encode_preffix = dc_encode_table[encode_len]\n",
    "    encode = ''\n",
    "    if dc_before_code > 0:\n",
    "        encode = encode_preffix + str(bin(dc_before_code))[2:]\n",
    "    elif dc_before_code < 0:\n",
    "        original = str(bin(dc_before_code))[3:]\n",
    "        encode_suffix = ''.join(['0' if x == '1' else '1' for x in original])\n",
    "        encode = encode_preffix + encode_suffix\n",
    "    else :\n",
    "        encode = encode_preffix\n",
    "    return encode\n",
    "\n"
   ]
  },
  {
   "cell_type": "code",
   "execution_count": null,
   "metadata": {},
   "outputs": [],
   "source": [
    "def act_ac_encode(zero_num, nozero_value):\n",
    "        global ac_encode_table\n",
    "        nozero_value_level = 0 if nozero_value == 0 else int(np.log2(abs(nozero_value))) + 1\n",
    "        encode = ''\n",
    "        encode_preffix = ac_encode_table[zero_num,nozero_value_level]\n",
    "        if nozero_value > 0:\n",
    "                encode = encode_preffix + str(bin(nozero_value))[2:]\n",
    "        elif nozero_value < 0:\n",
    "                original = str(bin(abs(nozero_value)))[2:]\n",
    "                encode_suffix = ''.join(['0' if x == '1' else '1' for x in original])\n",
    "                encode = encode_preffix + encode_suffix\n",
    "        else:\n",
    "                encode = encode_preffix\n",
    "        return encode\n"
   ]
  },
  {
   "cell_type": "code",
   "execution_count": null,
   "metadata": {},
   "outputs": [],
   "source": [
    "def ac_encode(block):\n",
    "    # zigzag\n",
    "    global zigzag_col , zigzag_row\n",
    "    encode = ''\n",
    "    zigzag_block = np.empty(8 * 8,dtype=np.int32)\n",
    "    for index in range(8 * 8):\n",
    "            zigzag_block[index] = block[zigzag_col[index],zigzag_row[index]]\n",
    "    last_nozero_index = 0\n",
    "    for ii in range(8 * 8 - 1,-1,-1):\n",
    "        if zigzag_block[ii] != 0:\n",
    "            last_nozero_index = ii \n",
    "            break\n",
    "    assert zigzag_block[last_nozero_index] != 0\n",
    "    zero_num = 0\n",
    "    for index in range(1,last_nozero_index +1):\n",
    "        if zigzag_block[index] ==0 and zero_num < 15:\n",
    "            zero_num += 1\n",
    "        else:\n",
    "            nozero_value  = zigzag_block[index]\n",
    "            if nozero_value == 0:\n",
    "                encode_preffix = act_ac_encode(15,0)\n",
    "                zero_num = 0\n",
    "            else:\n",
    "                encode_preffix = act_ac_encode(zero_num , nozero_value)\n",
    "                zero_num = 0\n",
    "            encode +=encode_preffix\n",
    "    if last_nozero_index < 63 and last_nozero_index >=0:\n",
    "        encode_suffix = act_ac_encode(0,0)\n",
    "        encode += encode_suffix\n",
    "    return encode\n"
   ]
  },
  {
   "cell_type": "code",
   "execution_count": null,
   "metadata": {},
   "outputs": [],
   "source": [
    "\n",
    "codes = ''\n",
    "for block_index in range(blocks_num):\n",
    "    if block_index == 0:\n",
    "        codes += dc_encode(dc_values[block_index],0)\n",
    "    else:\n",
    "        codes += dc_encode( dc_values[block_index],dc_values[block_index-1]) \n",
    "    codes += ac_encode(ac_values[block_index,:,:])"
   ]
  },
  {
   "cell_type": "code",
   "execution_count": null,
   "metadata": {},
   "outputs": [],
   "source": [
    "code_process = ''\n",
    "nozero_counter = 0\n",
    "for code in codes:\n",
    "    code_process += code\n",
    "    if code == '0':\n",
    "        nozero_counter = 0\n",
    "    elif code == '1':\n",
    "        nozero_counter += 1\n",
    "    if nozero_counter >=8 and len(code_process) %8 == 0:\n",
    "        code_process += '00000000' # 8 个 0\n",
    "        nozero_counter = 0\n"
   ]
  },
  {
   "cell_type": "code",
   "execution_count": null,
   "metadata": {},
   "outputs": [],
   "source": [
    "add_zero = (-len(code_process))  % 8\n",
    "code_process += '0' *add_zero\n",
    "with open('./lady_py.dat','wb') as f: \n",
    "    buffer = 0\n",
    "    for index ,code in enumerate(code_process):\n",
    "        if index % 8 == 0 and index > 0:\n",
    "            f.write(buffer.to_bytes(1,byteorder='little',signed=False))            \n",
    "            buffer = 0\n",
    "        buffer += int(code) << (7 - (index % 8))\n"
   ]
  }
 ],
 "metadata": {
  "kernelspec": {
   "display_name": "Python 3.9.15 ('mmt')",
   "language": "python",
   "name": "python3"
  },
  "language_info": {
   "codemirror_mode": {
    "name": "ipython",
    "version": 3
   },
   "file_extension": ".py",
   "mimetype": "text/x-python",
   "name": "python",
   "nbconvert_exporter": "python",
   "pygments_lexer": "ipython3",
   "version": "3.9.15"
  },
  "orig_nbformat": 4,
  "vscode": {
   "interpreter": {
    "hash": "7419b220be5106c50aacda0c6245e9a4c1adb1e98fb18ba10150d327077fdab3"
   }
  }
 },
 "nbformat": 4,
 "nbformat_minor": 2
}
